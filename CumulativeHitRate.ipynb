{
 "cells": [
  {
   "cell_type": "markdown",
   "metadata": {},
   "source": [
    "## Cumulative Hit Rate"
   ]
  },
  {
   "cell_type": "code",
   "execution_count": null,
   "metadata": {},
   "outputs": [],
   "source": [
    "import random\n",
    "import findspark\n",
    "import pyspark.sql.functions as F\n",
    "from pyspark.sql import SparkSession\n",
    "from pyspark.sql.window import Window\n",
    "from pyspark.ml.recommendation import ALS\n",
    "from pyspark.sql.types import IntegerType\n",
    "from pyspark.sql.functions import rank, col, udf\n",
    "from pyspark.ml.evaluation import RegressionEvaluator\n",
    "\n",
    "findspark.init()\n",
    "spark = SparkSession.builder.appName('TestRecommender')\\\n",
    "                    .config('spark.executors.cores', 4)\\\n",
    "                    .getOrCreate()\n",
    "ratings = spark.read.option('header', 'true').option(\"inferSchema\", \"true\").csv('ml-latest-small/ratings.csv')"
   ]
  },
  {
   "cell_type": "code",
   "execution_count": null,
   "metadata": {},
   "outputs": [],
   "source": [
    "cutOff = 2.5\n",
    "hitCount = 0\n",
    "\n",
    "def createSeed(x):\n",
    "    return random.randint(1,21)*x\n",
    "\n",
    "randomSeed=udf(lambda x: createSeed(x), IntegerType())\n",
    "\n",
    "for x in range(1, 20):\n",
    "    window = Window.partitionBy(ratings['userId']).orderBy(randomSeed('timestamp'))\n",
    "    onlyBestRatings = ratings.where('rating > 4.5')\n",
    "    leftOutTestDataset = onlyBestRatings.select('*', F.rank().over(window).alias('rank'))\\\n",
    "                                        .where((F.col('rank') <=1) )\\\n",
    "                                        .orderBy('userId').drop('rank').cache()\n",
    "\n",
    "    trainingDataset = ratings.subtract(leftOutTestDataset).cache()\n",
    "\n",
    "    als = ALS(maxIter=20, regParam=0.01, userCol='userId', itemCol='movieId', ratingCol='rating', coldStartStrategy='drop')\n",
    "    model = als.fit(trainingDataset)\n",
    "\n",
    "    leftOutPredictions = model.transform(leftOutTestDataset)\n",
    "\n",
    "    userRecs = model.recommendForAllUsers(30)\n",
    "    topNRecommendations = userRecs.select('userId', F.posexplode('recommendations'))\\\n",
    "                                  .select('userId',\n",
    "                                          F.col('col.movieId').alias('movieId'),\n",
    "                                          F.col('col.rating').alias('prediction'),\n",
    "                                          (F.col('pos') + 1).alias('rank'))\n",
    "\n",
    "    hitRecommendations = topNRecommendations.alias('a')\\\n",
    "                                            .join(leftOutPredictions.alias('b'),\n",
    "                                                  (F.col('a.userId') == F.col('b.userId')) &\n",
    "                                                    (F.col('a.movieId') == F.col('b.movieId')))\\\n",
    "                                            .select('a.userId', 'a.movieId', 'b.prediction', 'rating', 'rank')\n",
    "    \n",
    "    hitRecommendationsWithCutOff = hitRecommendations.where(F.col('prediction') > cutOff)\n",
    "\n",
    "    count = hitRecommendations.count()\n",
    "    hitCount += count\n",
    "    print(\"**** Hit count for matches higher than rating prediction {} in iteration {} is {}, Now Total Hits are {}\".format(cutOff, str(x), str(count),str(hitCount)))\n",
    "    \n",
    "    hitRecommendations.unpersist()\n",
    "    topNRecommendations.unpersist()\n",
    "    userRecs.unpersist()\n",
    "    trainingDataset.unpersist()\n",
    "    leftOutTestDataset.unpersist()\n",
    "    leftOutPredictions.unpersist()\n",
    "    hitRecommendationsWithCutOff.unpersist()\n",
    "    "
   ]
  },
  {
   "cell_type": "code",
   "execution_count": null,
   "metadata": {},
   "outputs": [],
   "source": [
    "cumulativeHitRate17 = 9/671\n",
    "print('Cumulative Hit Rate For Iteration 17: ' + str(cumulativeHitRate17))"
   ]
  },
  {
   "cell_type": "markdown",
   "metadata": {},
   "source": [
    "#### Example Response"
   ]
  },
  {
   "cell_type": "raw",
   "metadata": {},
   "source": [
    "**** Hit count for matches higher than rating prediction 2.5 in iteration 1 is 5, Now Total Hits are 5\n",
    "**** Hit count for matches higher than rating prediction 2.5 in iteration 2 is 7, Now Total Hits are 12\n",
    "**** Hit count for matches higher than rating prediction 2.5 in iteration 3 is 6, Now Total Hits are 18\n",
    "**** Hit count for matches higher than rating prediction 2.5 in iteration 4 is 7, Now Total Hits are 25\n",
    "**** Hit count for matches higher than rating prediction 2.5 in iteration 5 is 4, Now Total Hits are 29\n",
    "**** Hit count for matches higher than rating prediction 2.5 in iteration 6 is 4, Now Total Hits are 33\n",
    "**** Hit count for matches higher than rating prediction 2.5 in iteration 7 is 5, Now Total Hits are 38\n",
    "**** Hit count for matches higher than rating prediction 2.5 in iteration 8 is 7, Now Total Hits are 45\n",
    "**** Hit count for matches higher than rating prediction 2.5 in iteration 9 is 4, Now Total Hits are 49\n",
    "**** Hit count for matches higher than rating prediction 2.5 in iteration 10 is 2, Now Total Hits are 51\n",
    "**** Hit count for matches higher than rating prediction 2.5 in iteration 11 is 3, Now Total Hits are 54\n",
    "**** Hit count for matches higher than rating prediction 2.5 in iteration 12 is 8, Now Total Hits are 62\n",
    "**** Hit count for matches higher than rating prediction 2.5 in iteration 13 is 3, Now Total Hits are 65\n",
    "**** Hit count for matches higher than rating prediction 2.5 in iteration 14 is 3, Now Total Hits are 68\n",
    "**** Hit count for matches higher than rating prediction 2.5 in iteration 15 is 4, Now Total Hits are 72\n",
    "**** Hit count for matches higher than rating prediction 2.5 in iteration 16 is 4, Now Total Hits are 76\n",
    "**** Hit count for matches higher than rating prediction 2.5 in iteration 17 is 9, Now Total Hits are 85\n",
    "**** Hit count for matches higher than rating prediction 2.5 in iteration 18 is 6, Now Total Hits are 91\n",
    "**** Hit count for matches higher than rating prediction 2.5 in iteration 19 is 3, Now Total Hits are 94\n",
    "\n",
    "Cumulative Hit Rate For Iteration 17: 0.013412816691505217"
   ]
  }
 ],
 "metadata": {
  "kernelspec": {
   "display_name": "Python 3",
   "language": "python",
   "name": "python3"
  },
  "language_info": {
   "codemirror_mode": {
    "name": "ipython",
    "version": 3
   },
   "file_extension": ".py",
   "mimetype": "text/x-python",
   "name": "python",
   "nbconvert_exporter": "python",
   "pygments_lexer": "ipython3",
   "version": "3.7.3"
  }
 },
 "nbformat": 4,
 "nbformat_minor": 2
}
