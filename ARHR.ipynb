{
 "cells": [
  {
   "cell_type": "code",
   "execution_count": 1,
   "metadata": {},
   "outputs": [],
   "source": [
    "import random\n",
    "import findspark\n",
    "import pyspark.sql.functions as F\n",
    "from pyspark.sql import SparkSession\n",
    "from pyspark.sql.window import Window\n",
    "from pyspark.ml.recommendation import ALS\n",
    "from pyspark.sql.types import IntegerType\n",
    "from pyspark.sql.functions import rank, col, udf\n",
    "from pyspark.ml.evaluation import RegressionEvaluator\n",
    "\n",
    "findspark.init()\n",
    "spark = SparkSession.builder.appName('TestRecommender')\\\n",
    "                    .config('spark.executors.cores', 4)\\\n",
    "                    .getOrCreate()\n",
    "ratings = spark.read.option('header', 'true').option(\"inferSchema\", \"true\").csv('ml-latest-small/ratings.csv')"
   ]
  },
  {
   "cell_type": "code",
   "execution_count": 2,
   "metadata": {},
   "outputs": [],
   "source": [
    "ARHR = 0\n",
    "hitCount = 0\n",
    "\n",
    "def createSeed(x):\n",
    "    return random.randint(1,21)*x\n",
    "\n",
    "randomSeed=udf(lambda x: createSeed(x), IntegerType())\n",
    "\n",
    "window = Window.partitionBy(ratings['userId']).orderBy(randomSeed('timestamp'))\n",
    "\n",
    "onlyBestRatings = ratings.where('rating > 4.5')\n",
    "leftOutTestDataset = onlyBestRatings.select('*', F.rank().over(window).alias('rank'))\\\n",
    "                                    .where((F.col('rank') <=1) )\\\n",
    "                                    .orderBy('userId').drop('rank').cache()\n",
    "\n",
    "trainingDataset = ratings.subtract(leftOutTestDataset).cache()\n",
    "\n",
    "als = ALS(maxIter=20, regParam=0.01, userCol='userId', itemCol='movieId', ratingCol='rating', coldStartStrategy='drop')\n",
    "model = als.fit(trainingDataset)\n",
    "\n",
    "leftOutPredictions = model.transform(leftOutTestDataset)\n",
    "\n",
    "userRecs = model.recommendForAllUsers(30)\n",
    "\n",
    "# PosExplode is important now!\n",
    "topNRecommendations = userRecs.select('userId', F.posexplode('recommendations'))\\\n",
    "                              .select('userId',\n",
    "                                      F.col('col.movieId').alias('movieId'),\n",
    "                                      F.col('col.rating').alias('prediction'),\n",
    "                                      (F.col('pos') + 1).alias('rank'))\n",
    "\n",
    "hitRecommendations = topNRecommendations.alias('a')\\\n",
    "                                        .join(leftOutPredictions.alias('b'),\n",
    "                                              (F.col('a.userId') == F.col('b.userId')) &\n",
    "                                              (F.col('a.movieId') == F.col('b.movieId')))\\\n",
    "                                        .select('a.userId', 'a.movieId', 'b.prediction', 'rating', 'rank')\\\n",
    "                                        .withColumn('reciprocalHit', 1/F.col('rank'))\n"
   ]
  },
  {
   "cell_type": "code",
   "execution_count": 3,
   "metadata": {},
   "outputs": [
    {
     "name": "stdout",
     "output_type": "stream",
     "text": [
      "+------+-------+----------+------+----+-------------------+\n",
      "|userId|movieId|prediction|rating|rank|      reciprocalHit|\n",
      "+------+-------+----------+------+----+-------------------+\n",
      "|   577|   5618| 5.8065705|   5.0|  14|0.07142857142857142|\n",
      "|   446|    318|  5.454803|   5.0|  30|0.03333333333333333|\n",
      "|   514|   1111|  5.470815|   5.0|   6|0.16666666666666666|\n",
      "|   520|   1221| 5.0117245|   5.0|  30|0.03333333333333333|\n",
      "+------+-------+----------+------+----+-------------------+\n",
      "\n"
     ]
    }
   ],
   "source": [
    "hitRecommendations.show()"
   ]
  }
 ],
 "metadata": {
  "kernelspec": {
   "display_name": "Python 3",
   "language": "python",
   "name": "python3"
  },
  "language_info": {
   "codemirror_mode": {
    "name": "ipython",
    "version": 3
   },
   "file_extension": ".py",
   "mimetype": "text/x-python",
   "name": "python",
   "nbconvert_exporter": "python",
   "pygments_lexer": "ipython3",
   "version": "3.7.3"
  }
 },
 "nbformat": 4,
 "nbformat_minor": 2
}
