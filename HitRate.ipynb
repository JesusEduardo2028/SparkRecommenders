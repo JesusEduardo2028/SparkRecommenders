{
 "cells": [
  {
   "cell_type": "markdown",
   "metadata": {},
   "source": [
    "## Hit Rate"
   ]
  },
  {
   "cell_type": "code",
   "execution_count": 6,
   "metadata": {},
   "outputs": [],
   "source": [
    "import random\n",
    "import findspark\n",
    "import pyspark.sql.functions as F\n",
    "from pyspark.sql import SparkSession\n",
    "from pyspark.sql.window import Window\n",
    "from pyspark.ml.recommendation import ALS\n",
    "from pyspark.sql.types import IntegerType\n",
    "from pyspark.sql.functions import rank, col, udf\n",
    "from pyspark.ml.evaluation import RegressionEvaluator\n",
    "\n",
    "findspark.init()\n",
    "spark = SparkSession.builder.appName('TestRecommender')\\\n",
    "                    .config('spark.executors.cores', 4)\\\n",
    "                    .getOrCreate()\n",
    "ratings = spark.read.option('header', 'true').option(\"inferSchema\", \"true\").csv('ml-latest-small/ratings.csv')"
   ]
  },
  {
   "cell_type": "code",
   "execution_count": 39,
   "metadata": {},
   "outputs": [
    {
     "name": "stdout",
     "output_type": "stream",
     "text": [
      "**** Hit Count for iteration 1 is 2, Now Total Hits are 2\n",
      "**** Hit Count for iteration 2 is 3, Now Total Hits are 5\n",
      "**** Hit Count for iteration 3 is 3, Now Total Hits are 8\n",
      "**** Hit Count for iteration 4 is 7, Now Total Hits are 15\n",
      "**** Hit Count for iteration 5 is 4, Now Total Hits are 19\n",
      "**** Hit Count for iteration 6 is 4, Now Total Hits are 23\n",
      "**** Hit Count for iteration 7 is 5, Now Total Hits are 28\n",
      "**** Hit Count for iteration 8 is 8, Now Total Hits are 36\n",
      "**** Hit Count for iteration 9 is 2, Now Total Hits are 38\n",
      "**** Hit Count for iteration 10 is 2, Now Total Hits are 40\n",
      "**** Hit Count for iteration 11 is 5, Now Total Hits are 45\n",
      "**** Hit Count for iteration 12 is 3, Now Total Hits are 48\n",
      "**** Hit Count for iteration 13 is 6, Now Total Hits are 54\n",
      "**** Hit Count for iteration 14 is 8, Now Total Hits are 62\n",
      "**** Hit Count for iteration 15 is 3, Now Total Hits are 65\n",
      "**** Hit Count for iteration 16 is 3, Now Total Hits are 68\n",
      "**** Hit Count for iteration 17 is 2, Now Total Hits are 70\n",
      "**** Hit Count for iteration 18 is 10, Now Total Hits are 80\n",
      "**** Hit Count for iteration 19 is 2, Now Total Hits are 82\n"
     ]
    }
   ],
   "source": [
    "hitCount = 0\n",
    "\n",
    "def createSeed(x):\n",
    "    return random.randint(1,21)*x\n",
    "\n",
    "randomSeed=udf(lambda x: createSeed(x), IntegerType())\n",
    "\n",
    "for x in range(1, 20):\n",
    "    window = Window.partitionBy(ratings['userId']).orderBy(randomSeed('timestamp'))\n",
    "    \n",
    "    onlyBestRatings = ratings.where('rating > 4.5')\n",
    "    \n",
    "    leftOutTestDataset = onlyBestRatings.select('*', F.rank().over(window).alias('rank'))\\\n",
    "                                        .where((F.col('rank') <=1) )\\\n",
    "                                        .orderBy('userId').drop('rank').cache()\n",
    "\n",
    "    trainingDataset = ratings.subtract(leftOutTestDataset).cache()\n",
    "\n",
    "    als = ALS(maxIter=20, regParam=0.01, userCol='userId', itemCol='movieId', ratingCol='rating', coldStartStrategy='drop')\n",
    "    model = als.fit(trainingDataset)\n",
    "    userRecs = model.recommendForAllUsers(30)\n",
    "    topNRecommendations = userRecs.select('userId', F.posexplode('recommendations'))\\\n",
    "                                  .select('userId',\n",
    "                                          F.col('col.movieId').alias('movieId'),\n",
    "                                          F.col('col.rating').alias('prediction'),\n",
    "                                          (F.col('pos') + 1).alias('rank'))\n",
    "\n",
    "    hitRecommendations = topNRecommendations.alias('a')\\\n",
    "                                            .join(leftOutTestDataset.alias('b'),\n",
    "                                                  (F.col('a.userId') == F.col('b.userId')) &\n",
    "                                                  (F.col('a.movieId') == F.col('b.movieId')))\\\n",
    "                                            .select('a.userId', 'a.movieId', 'prediction', 'rating', 'rank')\n",
    "\n",
    "    count = hitRecommendations.count()\n",
    "    hitCount += count\n",
    "    print(\"**** Hit Count for iteration {} is {}, Now Total Hits are {}\".format(str(x), str(count),str(hitCount)))\n",
    "    \n",
    "    hitRecommendations.unpersist()\n",
    "    topNRecommendations.unpersist()\n",
    "    userRecs.unpersist()\n",
    "    trainingDataset.unpersist()\n",
    "    leftOutTestDataset.unpersist()\n",
    "    \n"
   ]
  },
  {
   "cell_type": "code",
   "execution_count": 44,
   "metadata": {},
   "outputs": [
    {
     "name": "stdout",
     "output_type": "stream",
     "text": [
      "Hit Rate For Iteration 19: 0.014903129657228018\n"
     ]
    }
   ],
   "source": [
    "hitRate18 = 10/671\n",
    "print('Hit Rate For Iteration 19: ' + str(hitRate18))"
   ]
  },
  {
   "cell_type": "markdown",
   "metadata": {},
   "source": [
    "#### Example Result:"
   ]
  },
  {
   "cell_type": "raw",
   "metadata": {},
   "source": [
    "**** Hit Count for iteration 1 is 2, Now Total Hits are 2\n",
    "**** Hit Count for iteration 2 is 3, Now Total Hits are 5\n",
    "**** Hit Count for iteration 3 is 3, Now Total Hits are 8\n",
    "**** Hit Count for iteration 4 is 7, Now Total Hits are 15\n",
    "**** Hit Count for iteration 5 is 4, Now Total Hits are 19\n",
    "**** Hit Count for iteration 6 is 4, Now Total Hits are 23\n",
    "**** Hit Count for iteration 7 is 5, Now Total Hits are 28\n",
    "**** Hit Count for iteration 8 is 8, Now Total Hits are 36\n",
    "**** Hit Count for iteration 9 is 2, Now Total Hits are 38\n",
    "**** Hit Count for iteration 10 is 2, Now Total Hits are 40\n",
    "**** Hit Count for iteration 11 is 5, Now Total Hits are 45\n",
    "**** Hit Count for iteration 12 is 3, Now Total Hits are 48\n",
    "**** Hit Count for iteration 13 is 6, Now Total Hits are 54\n",
    "**** Hit Count for iteration 14 is 8, Now Total Hits are 62\n",
    "**** Hit Count for iteration 15 is 3, Now Total Hits are 65\n",
    "**** Hit Count for iteration 16 is 3, Now Total Hits are 68\n",
    "**** Hit Count for iteration 17 is 2, Now Total Hits are 70\n",
    "**** Hit Count for iteration 18 is 10, Now Total Hits are 80\n",
    "**** Hit Count for iteration 19 is 2, Now Total Hits are 82\n",
    "\n",
    "Hit Rate For Iteration 19: 0.014903129657228018"
   ]
  }
 ],
 "metadata": {
  "kernelspec": {
   "display_name": "Python 3",
   "language": "python",
   "name": "python3"
  },
  "language_info": {
   "codemirror_mode": {
    "name": "ipython",
    "version": 3
   },
   "file_extension": ".py",
   "mimetype": "text/x-python",
   "name": "python",
   "nbconvert_exporter": "python",
   "pygments_lexer": "ipython3",
   "version": "3.7.3"
  }
 },
 "nbformat": 4,
 "nbformat_minor": 2
}
