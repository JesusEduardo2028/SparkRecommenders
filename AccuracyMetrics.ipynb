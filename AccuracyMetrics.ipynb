{
 "cells": [
  {
   "cell_type": "markdown",
   "metadata": {},
   "source": [
    "## Project Setup"
   ]
  },
  {
   "cell_type": "markdown",
   "metadata": {},
   "source": [
    "### Dependencies"
   ]
  },
  {
   "cell_type": "code",
   "execution_count": 1,
   "metadata": {},
   "outputs": [],
   "source": [
    "import random\n",
    "import findspark\n",
    "import pyspark.sql.functions as F\n",
    "from pyspark.sql import SparkSession\n",
    "from pyspark.sql.window import Window\n",
    "from pyspark.ml.recommendation import ALS\n",
    "from pyspark.sql.types import IntegerType\n",
    "from pyspark.sql.functions import rank, col, udf\n",
    "from pyspark.ml.evaluation import RegressionEvaluator"
   ]
  },
  {
   "cell_type": "markdown",
   "metadata": {},
   "source": [
    "### Spark Setup"
   ]
  },
  {
   "cell_type": "code",
   "execution_count": 2,
   "metadata": {},
   "outputs": [],
   "source": [
    "findspark.init()\n",
    "spark = SparkSession.builder.appName('TestRecommender').getOrCreate()"
   ]
  },
  {
   "cell_type": "markdown",
   "metadata": {},
   "source": [
    "### Ratings dataframe"
   ]
  },
  {
   "cell_type": "code",
   "execution_count": 3,
   "metadata": {},
   "outputs": [
    {
     "name": "stdout",
     "output_type": "stream",
     "text": [
      "Total ratings: 100004\n",
      "root\n",
      " |-- userId: integer (nullable = true)\n",
      " |-- movieId: integer (nullable = true)\n",
      " |-- rating: double (nullable = true)\n",
      " |-- timestamp: integer (nullable = true)\n",
      "\n",
      "+------+-------+------+----------+\n",
      "|userId|movieId|rating| timestamp|\n",
      "+------+-------+------+----------+\n",
      "|     1|     31|   2.5|1260759144|\n",
      "|     1|   1029|   3.0|1260759179|\n",
      "|     1|   1061|   3.0|1260759182|\n",
      "|     1|   1129|   2.0|1260759185|\n",
      "|     1|   1172|   4.0|1260759205|\n",
      "|     1|   1263|   2.0|1260759151|\n",
      "|     1|   1287|   2.0|1260759187|\n",
      "|     1|   1293|   2.0|1260759148|\n",
      "|     1|   1339|   3.5|1260759125|\n",
      "|     1|   1343|   2.0|1260759131|\n",
      "|     1|   1371|   2.5|1260759135|\n",
      "|     1|   1405|   1.0|1260759203|\n",
      "|     1|   1953|   4.0|1260759191|\n",
      "|     1|   2105|   4.0|1260759139|\n",
      "|     1|   2150|   3.0|1260759194|\n",
      "|     1|   2193|   2.0|1260759198|\n",
      "|     1|   2294|   2.0|1260759108|\n",
      "|     1|   2455|   2.5|1260759113|\n",
      "|     1|   2968|   1.0|1260759200|\n",
      "|     1|   3671|   3.0|1260759117|\n",
      "+------+-------+------+----------+\n",
      "only showing top 20 rows\n",
      "\n"
     ]
    }
   ],
   "source": [
    "ratings = spark.read.option('header', 'true').option(\"inferSchema\", \"true\").csv('ml-latest-small/ratings.csv')\n",
    "ratingsCount = ratings.count()\n",
    "print(\"Total ratings: \" + str(ratingsCount))\n",
    "ratings.printSchema()\n",
    "ratings.show()"
   ]
  },
  {
   "cell_type": "markdown",
   "metadata": {},
   "source": [
    "### Training, Test Dataset creation\n",
    "Training: 75%\n",
    "Test: 25%"
   ]
  },
  {
   "cell_type": "code",
   "execution_count": 4,
   "metadata": {},
   "outputs": [
    {
     "name": "stdout",
     "output_type": "stream",
     "text": [
      "Training row count: 75307\n",
      "Test row count: 24697\n"
     ]
    }
   ],
   "source": [
    "(trainingDataset, testDataset) = ratings.randomSplit([0.75, 0.25])\n",
    "trainingCount = trainingDataset.count()\n",
    "testCount = testDataset.count()\n",
    "print(\"Training row count: \" + str(trainingCount))\n",
    "print(\"Test row count: \" + str(testCount))"
   ]
  },
  {
   "cell_type": "markdown",
   "metadata": {},
   "source": [
    "### Training the model and create Top 10 recommendations"
   ]
  },
  {
   "cell_type": "code",
   "execution_count": 5,
   "metadata": {},
   "outputs": [
    {
     "name": "stdout",
     "output_type": "stream",
     "text": [
      "root\n",
      " |-- userId: integer (nullable = false)\n",
      " |-- recommendations: array (nullable = true)\n",
      " |    |-- element: struct (containsNull = true)\n",
      " |    |    |-- movieId: integer (nullable = true)\n",
      " |    |    |-- rating: float (nullable = true)\n",
      "\n",
      "+------+--------------------+\n",
      "|userId|     recommendations|\n",
      "+------+--------------------+\n",
      "|   471|[[7063, 5.815272]...|\n",
      "|   463|[[946, 5.2240906]...|\n",
      "|   496|[[69526, 7.290323...|\n",
      "|   148|[[67255, 6.755663...|\n",
      "|   540|[[1162, 11.47817]...|\n",
      "|   392|[[2730, 7.760437]...|\n",
      "|   243|[[443, 5.37547], ...|\n",
      "|   623|[[6773, 6.191035]...|\n",
      "|    31|[[3653, 5.818799]...|\n",
      "|   516|[[72641, 5.737064...|\n",
      "|   580|[[6773, 5.3468013...|\n",
      "|   251|[[3653, 7.0004644...|\n",
      "|   451|[[299, 8.640146],...|\n",
      "|    85|[[40629, 11.98269...|\n",
      "|   137|[[1603, 8.688451]...|\n",
      "|    65|[[2071, 10.931352...|\n",
      "|   458|[[2071, 6.248592]...|\n",
      "|   481|[[1085, 6.3718367...|\n",
      "|    53|[[4062, 8.568881]...|\n",
      "|   255|[[6773, 5.810036]...|\n",
      "+------+--------------------+\n",
      "only showing top 20 rows\n",
      "\n"
     ]
    }
   ],
   "source": [
    "als = ALS(maxIter=5, regParam=0.01, userCol='userId', itemCol='movieId', ratingCol='rating', coldStartStrategy='drop')\n",
    "model = als.fit(trainingDataset)\n",
    "userRecs = model.recommendForAllUsers(10)\n",
    "userRecs.printSchema()\n",
    "userRecs.show(20)"
   ]
  },
  {
   "cell_type": "markdown",
   "metadata": {},
   "source": [
    "### Display recommendations"
   ]
  },
  {
   "cell_type": "code",
   "execution_count": 6,
   "metadata": {},
   "outputs": [
    {
     "name": "stdout",
     "output_type": "stream",
     "text": [
      "+------+-------+----------+----+\n",
      "|userId|movieId|prediction|rank|\n",
      "+------+-------+----------+----+\n",
      "|   471|   7063|  5.815272|   1|\n",
      "|   471|   2071|   5.41364|   2|\n",
      "|   471|  81229|  5.396172|   3|\n",
      "|   471|   5146|  5.371749|   4|\n",
      "|   471|   5603|  5.342844|   5|\n",
      "|   471|   4225| 5.3205905|   6|\n",
      "|   471|  83318|  5.313382|   7|\n",
      "|   471|  83359|  5.313382|   8|\n",
      "|   471|   3478| 5.2698746|   9|\n",
      "|   471|    314| 5.2604284|  10|\n",
      "|   463|    946| 5.2240906|   1|\n",
      "|   463|   3468| 5.2091074|   2|\n",
      "|   463|   1361|  5.130007|   3|\n",
      "|   463|  67255| 5.1180673|   4|\n",
      "|   463|   3357|  5.088714|   5|\n",
      "|   463|    994|  5.031719|   6|\n",
      "|   463|   2132| 4.9852486|   7|\n",
      "|   463|  58303| 4.9835353|   8|\n",
      "|   463|   1172|  4.966971|   9|\n",
      "|   463|   3265| 4.9506445|  10|\n",
      "+------+-------+----------+----+\n",
      "only showing top 20 rows\n",
      "\n"
     ]
    }
   ],
   "source": [
    "topNRecommendations = userRecs.select('userId', F.posexplode('recommendations'))\\\n",
    "                              .select('userId',\n",
    "                                      F.col('col.movieId').alias('movieId'),\n",
    "                                      F.col('col.rating').alias('prediction'),\n",
    "                                      (F.col('pos') + 1).alias('rank'))\n",
    "\n",
    "topNRecommendations.show()"
   ]
  },
  {
   "cell_type": "markdown",
   "metadata": {},
   "source": [
    "### Filter and show recommendations for user 85"
   ]
  },
  {
   "cell_type": "code",
   "execution_count": 7,
   "metadata": {
    "scrolled": true
   },
   "outputs": [
    {
     "name": "stdout",
     "output_type": "stream",
     "text": [
      "['Pride & Prejudice (2005)', 'Drama|Romance']\n",
      "['Love Is a Many-Splendored Thing (1955)', 'Drama|Romance|War']\n",
      "['Blind Side, The  (2009)', 'Drama']\n",
      "['And the Band Played On (1993)', 'Drama']\n",
      "['Last Temptation of Christ, The (1988)', 'Drama']\n",
      "['Help, The (2011)', 'Drama']\n",
      "['Bamba, La (1987)', 'Drama']\n",
      "['Queen of the Damned (2002)', 'Fantasy|Horror']\n",
      "['Aeon Flux (2005)', 'Action|Sci-Fi']\n",
      "['Dead Man (1995)', 'Drama|Mystery|Western']\n"
     ]
    }
   ],
   "source": [
    "user85Recs = userRecs.filter(userRecs['userId'] == 85).first()\n",
    "movies = spark.read.option('header', 'true').option(\"inferSchema\", \"true\").csv('ml-latest-small/movies.csv').toPandas().set_index('movieId').T.to_dict('list')\n",
    "for recommendation in user85Recs.recommendations:\n",
    "    print(movies[recommendation['movieId']])"
   ]
  },
  {
   "cell_type": "markdown",
   "metadata": {},
   "source": [
    "## Recommender Accuracy Metrics"
   ]
  },
  {
   "cell_type": "markdown",
   "metadata": {},
   "source": [
    "### Get predictions for test dataset"
   ]
  },
  {
   "cell_type": "code",
   "execution_count": 10,
   "metadata": {},
   "outputs": [
    {
     "name": "stdout",
     "output_type": "stream",
     "text": [
      "----TEST DATASET----\n",
      "+------+-------+------+----------+\n",
      "|userId|movieId|rating| timestamp|\n",
      "+------+-------+------+----------+\n",
      "|     1|   1172|   4.0|1260759205|\n",
      "|     1|   1339|   3.5|1260759125|\n",
      "|     1|   1371|   2.5|1260759135|\n",
      "|     1|   1405|   1.0|1260759203|\n",
      "|     1|   2294|   2.0|1260759108|\n",
      "|     2|     52|   3.0| 835356031|\n",
      "|     2|     62|   3.0| 835355749|\n",
      "|     2|    144|   3.0| 835356016|\n",
      "|     2|    165|   3.0| 835355441|\n",
      "|     2|    208|   3.0| 835355511|\n",
      "|     2|    222|   5.0| 835355840|\n",
      "|     2|    235|   3.0| 835355664|\n",
      "|     2|    248|   3.0| 835355896|\n",
      "|     2|    265|   5.0| 835355697|\n",
      "|     2|    273|   4.0| 835355779|\n",
      "|     2|    300|   3.0| 835355532|\n",
      "|     2|    314|   4.0| 835356044|\n",
      "|     2|    319|   1.0| 835355918|\n",
      "|     2|    350|   4.0| 835355697|\n",
      "|     2|    364|   3.0| 835355604|\n",
      "+------+-------+------+----------+\n",
      "only showing top 20 rows\n",
      "\n",
      "----PREDICTIONS FOR TEST DATASET----\n",
      "+------+-------+------+----------+----------+\n",
      "|userId|movieId|rating| timestamp|prediction|\n",
      "+------+-------+------+----------+----------+\n",
      "|     1|   1405|   1.0|1260759203| 2.3573596|\n",
      "|     1|   1339|   3.5|1260759125|  2.255659|\n",
      "|     1|   2294|   2.0|1260759108| 1.7274475|\n",
      "|     1|   1172|   4.0|1260759205| 3.1942418|\n",
      "|     1|   1371|   2.5|1260759135|  2.772991|\n",
      "|     2|    265|   5.0| 835355697|  2.854583|\n",
      "|     2|    661|   4.0| 835356141| 2.7477627|\n",
      "|     2|    364|   3.0| 835355604|  4.657089|\n",
      "|     2|    720|   4.0| 835355978| 3.9863894|\n",
      "|     2|    273|   4.0| 835355779| 3.9515543|\n",
      "|     2|     52|   3.0| 835356031|   4.00739|\n",
      "|     2|    527|   4.0| 835355731|  4.299973|\n",
      "|     2|    367|   3.0| 835355619| 3.0399475|\n",
      "|     2|    165|   3.0| 835355441| 2.9326925|\n",
      "|     2|    314|   4.0| 835356044|  4.498228|\n",
      "|     2|    539|   3.0| 835355767| 3.4693336|\n",
      "|     2|    222|   5.0| 835355840| 4.3725176|\n",
      "|     2|    300|   3.0| 835355532|  3.616676|\n",
      "|     2|    319|   1.0| 835355918| 4.5491433|\n",
      "|     2|    350|   4.0| 835355697| 2.8703191|\n",
      "+------+-------+------+----------+----------+\n",
      "only showing top 20 rows\n",
      "\n"
     ]
    }
   ],
   "source": [
    "testRatingsAndPredictions = model.transform(testDataset)\n",
    "print('----TEST DATASET----')\n",
    "testDataset.show()\n",
    "print('----PREDICTIONS FOR TEST DATASET----')\n",
    "testRatingsAndPredictions.orderBy('userId').show()\n"
   ]
  },
  {
   "cell_type": "markdown",
   "metadata": {},
   "source": [
    "### MAE, RMSE"
   ]
  },
  {
   "cell_type": "code",
   "execution_count": 11,
   "metadata": {},
   "outputs": [
    {
     "name": "stdout",
     "output_type": "stream",
     "text": [
      "MAE: 0.8455554777050429\n",
      "RMSE: 1.1260865953551071\n"
     ]
    }
   ],
   "source": [
    "maeEval = RegressionEvaluator(metricName='mae', labelCol='rating', predictionCol='prediction')\n",
    "rmseEval = RegressionEvaluator(metricName='rmse', labelCol='rating', predictionCol='prediction')\n",
    "mae = maeEval.evaluate(testRatingsAndPredictions)\n",
    "rmse = rmseEval.evaluate(testRatingsAndPredictions)\n",
    "print('MAE: ' + str(mae))\n",
    "print('RMSE: '+ str(rmse))"
   ]
  }
 ],
 "metadata": {
  "kernelspec": {
   "display_name": "Python 3",
   "language": "python",
   "name": "python3"
  },
  "language_info": {
   "codemirror_mode": {
    "name": "ipython",
    "version": 3
   },
   "file_extension": ".py",
   "mimetype": "text/x-python",
   "name": "python",
   "nbconvert_exporter": "python",
   "pygments_lexer": "ipython3",
   "version": "3.7.3"
  }
 },
 "nbformat": 4,
 "nbformat_minor": 2
}
