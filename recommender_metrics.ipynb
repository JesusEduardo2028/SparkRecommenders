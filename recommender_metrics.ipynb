{
 "cells": [
  {
   "cell_type": "markdown",
   "metadata": {},
   "source": [
    "## Project Setup"
   ]
  },
  {
   "cell_type": "markdown",
   "metadata": {},
   "source": [
    "### Dependencies"
   ]
  },
  {
   "cell_type": "code",
   "execution_count": 1,
   "metadata": {},
   "outputs": [],
   "source": [
    "import findspark\n",
    "import pyspark.sql.functions as F\n",
    "from pyspark.sql import SparkSession \n",
    "from pyspark.ml.recommendation import ALS\n",
    "from pyspark.ml.evaluation import RegressionEvaluator"
   ]
  },
  {
   "cell_type": "markdown",
   "metadata": {},
   "source": [
    "### Spark Setup"
   ]
  },
  {
   "cell_type": "code",
   "execution_count": 2,
   "metadata": {},
   "outputs": [],
   "source": [
    "findspark.init()\n",
    "spark = SparkSession.builder.appName('TestRecommender').getOrCreate()"
   ]
  },
  {
   "cell_type": "markdown",
   "metadata": {},
   "source": [
    "### Ratings dataframe"
   ]
  },
  {
   "cell_type": "code",
   "execution_count": 6,
   "metadata": {},
   "outputs": [
    {
     "name": "stdout",
     "output_type": "stream",
     "text": [
      "Total ratings: 100004\n",
      "root\n",
      " |-- userId: integer (nullable = true)\n",
      " |-- movieId: integer (nullable = true)\n",
      " |-- rating: double (nullable = true)\n",
      " |-- timestamp: integer (nullable = true)\n",
      "\n",
      "+------+-------+------+----------+\n",
      "|userId|movieId|rating| timestamp|\n",
      "+------+-------+------+----------+\n",
      "|     1|     31|   2.5|1260759144|\n",
      "|     1|   1029|   3.0|1260759179|\n",
      "|     1|   1061|   3.0|1260759182|\n",
      "|     1|   1129|   2.0|1260759185|\n",
      "|     1|   1172|   4.0|1260759205|\n",
      "|     1|   1263|   2.0|1260759151|\n",
      "|     1|   1287|   2.0|1260759187|\n",
      "|     1|   1293|   2.0|1260759148|\n",
      "|     1|   1339|   3.5|1260759125|\n",
      "|     1|   1343|   2.0|1260759131|\n",
      "|     1|   1371|   2.5|1260759135|\n",
      "|     1|   1405|   1.0|1260759203|\n",
      "|     1|   1953|   4.0|1260759191|\n",
      "|     1|   2105|   4.0|1260759139|\n",
      "|     1|   2150|   3.0|1260759194|\n",
      "|     1|   2193|   2.0|1260759198|\n",
      "|     1|   2294|   2.0|1260759108|\n",
      "|     1|   2455|   2.5|1260759113|\n",
      "|     1|   2968|   1.0|1260759200|\n",
      "|     1|   3671|   3.0|1260759117|\n",
      "+------+-------+------+----------+\n",
      "only showing top 20 rows\n",
      "\n"
     ]
    }
   ],
   "source": [
    "ratings = spark.read.option('header', 'true').option(\"inferSchema\", \"true\").csv('ml-latest-small/ratings.csv')\n",
    "ratingsCount = ratings.count()\n",
    "print(\"Total ratings: \" + str(ratingsCount))\n",
    "ratings.printSchema()\n",
    "ratings.show()"
   ]
  },
  {
   "cell_type": "markdown",
   "metadata": {},
   "source": [
    "### Training, Test Dataset creation\n",
    "Training: 75%\n",
    "Test: 25%"
   ]
  },
  {
   "cell_type": "code",
   "execution_count": 8,
   "metadata": {},
   "outputs": [
    {
     "name": "stdout",
     "output_type": "stream",
     "text": [
      "Training row count: 74854\n",
      "Test row count: 25150\n"
     ]
    }
   ],
   "source": [
    "(trainingDataset, testDataset) = ratings.randomSplit([0.75, 0.25])\n",
    "trainingCount = trainingDataset.count()\n",
    "testCount = testDataset.count()\n",
    "print(\"Training row count: \" + str(trainingCount))\n",
    "print(\"Test row count: \" + str(testCount))"
   ]
  },
  {
   "cell_type": "markdown",
   "metadata": {},
   "source": [
    "### Training the model and create Top 10 recommendations"
   ]
  },
  {
   "cell_type": "code",
   "execution_count": 13,
   "metadata": {},
   "outputs": [
    {
     "name": "stdout",
     "output_type": "stream",
     "text": [
      "root\n",
      " |-- userId: integer (nullable = false)\n",
      " |-- recommendations: array (nullable = true)\n",
      " |    |-- element: struct (containsNull = true)\n",
      " |    |    |-- movieId: integer (nullable = true)\n",
      " |    |    |-- rating: float (nullable = true)\n",
      "\n",
      "+------+--------------------+\n",
      "|userId|     recommendations|\n",
      "+------+--------------------+\n",
      "|   471|[[1273, 5.9641657...|\n",
      "|   463|[[83411, 5.69187]...|\n",
      "|   496|[[5152, 7.9766097...|\n",
      "|   148|[[26729, 5.463170...|\n",
      "|   540|[[26729, 9.037238...|\n",
      "|   392|[[1057, 8.550612]...|\n",
      "|   243|[[3414, 5.6985326...|\n",
      "|   623|[[94466, 6.304226...|\n",
      "|    31|[[122904, 6.76062...|\n",
      "|   516|[[3548, 5.847185]...|\n",
      "|   580|[[1211, 4.9287505...|\n",
      "|   251|[[3925, 7.8438787...|\n",
      "|   451|[[5477, 8.435648]...|\n",
      "|    85|[[2287, 9.49665],...|\n",
      "|   137|[[3414, 8.761408]...|\n",
      "|    65|[[7444, 8.162363]...|\n",
      "|   458|[[1273, 5.980074]...|\n",
      "|   481|[[1111, 6.1750154...|\n",
      "|    53|[[71899, 8.89332]...|\n",
      "|   255|[[2467, 6.5249333...|\n",
      "+------+--------------------+\n",
      "only showing top 20 rows\n",
      "\n"
     ]
    }
   ],
   "source": [
    "als = ALS(maxIter=5, regParam=0.01, userCol='userId', itemCol='movieId', ratingCol='rating', coldStartStrategy='drop')\n",
    "model = als.fit(trainingDataset)\n",
    "userRecs = model.recommendForAllUsers(10)\n",
    "userRecs.printSchema()\n",
    "userRecs.show(20)"
   ]
  },
  {
   "cell_type": "markdown",
   "metadata": {},
   "source": [
    "### Display recommendations"
   ]
  },
  {
   "cell_type": "code",
   "execution_count": 14,
   "metadata": {},
   "outputs": [
    {
     "name": "stdout",
     "output_type": "stream",
     "text": [
      "+------+-------+----------+\n",
      "|userId|movieId|prediction|\n",
      "+------+-------+----------+\n",
      "|   471|   1273| 5.9641657|\n",
      "|   471|   1354|   5.84264|\n",
      "|   471|  94466| 5.8166423|\n",
      "|   471|   3925|  5.805952|\n",
      "|   471|   8638|  5.715417|\n",
      "|   471|   2203|   5.70847|\n",
      "|   471|   3260|  5.687847|\n",
      "|   471|   3265| 5.6527867|\n",
      "|   471|   3163|  5.642231|\n",
      "|   471|   3414|   5.59465|\n",
      "|   463|  83411|   5.69187|\n",
      "|   463|  67504|   5.69187|\n",
      "|   463|  83359|   5.69187|\n",
      "|   463|   7063| 5.4603014|\n",
      "|   463|   2318| 5.4062123|\n",
      "|   463|   4914| 5.1894364|\n",
      "|   463|  26712| 5.1789856|\n",
      "|   463|   7771| 5.1621046|\n",
      "|   463|   3633| 5.1548343|\n",
      "|   463|  25769|  5.133811|\n",
      "+------+-------+----------+\n",
      "only showing top 20 rows\n",
      "\n"
     ]
    }
   ],
   "source": [
    "topNRecommendations = userRecs.withColumn('rec_array', F.explode('recommendations'))\\\n",
    "                              .withColumn('movieId', F.col('rec_array.movieId'))\\\n",
    "                              .withColumn('prediction', F.col('rec_array.rating'))\\\n",
    "                              .select('userId', 'movieId', 'prediction')\n",
    "\n",
    "topNRecommendations.show()"
   ]
  },
  {
   "cell_type": "markdown",
   "metadata": {},
   "source": [
    "### Filter and show recommendations for user 85"
   ]
  },
  {
   "cell_type": "code",
   "execution_count": 15,
   "metadata": {},
   "outputs": [
    {
     "name": "stdout",
     "output_type": "stream",
     "text": [
      "['Them! (1954)', 'Horror|Sci-Fi|Thriller']\n",
      "['Towering Inferno, The (1974)', 'Action|Adventure|Drama|Thriller']\n",
      "['Amateur (1994)', 'Crime|Drama|Thriller']\n",
      "['Clue (1985)', 'Comedy|Crime|Mystery|Thriller']\n",
      "['Pillow Book, The (1996)', 'Drama|Romance']\n",
      "['State and Main (2000)', 'Comedy|Drama']\n",
      "['Hearts of Darkness: A Filmmakers Apocalypse (1991)', 'Documentary']\n",
      "['G.I. Joe: The Rise of Cobra (2009)', 'Action|Adventure|Sci-Fi|Thriller']\n",
      "['Paris Is Burning (1990)', 'Documentary']\n",
      "['For Your Eyes Only (1981)', 'Action|Adventure|Thriller']\n"
     ]
    }
   ],
   "source": [
    "user85Recs = userRecs.filter(userRecs['userId'] == 85).first()\n",
    "movies = spark.read.option('header', 'true').option(\"inferSchema\", \"true\").csv('ml-latest-small/movies.csv').toPandas().set_index('movieId').T.to_dict('list')\n",
    "for recommendation in user85Recs.recommendations:\n",
    "    print(movies[recommendation['movieId']])"
   ]
  },
  {
   "cell_type": "markdown",
   "metadata": {},
   "source": [
    "## Recommender Metrics"
   ]
  },
  {
   "cell_type": "markdown",
   "metadata": {},
   "source": [
    "### Get predictions for test dataset"
   ]
  },
  {
   "cell_type": "code",
   "execution_count": 21,
   "metadata": {},
   "outputs": [
    {
     "name": "stdout",
     "output_type": "stream",
     "text": [
      "+------+-------+------+----------+----------+\n",
      "|userId|movieId|rating| timestamp|prediction|\n",
      "+------+-------+------+----------+----------+\n",
      "|    30|    463|   4.0| 945277405| 2.9271078|\n",
      "|   311|    463|   3.0| 898008246| 2.4776416|\n",
      "|   440|    471|   3.0| 835337519|  2.185658|\n",
      "|   292|    471|   3.5|1140049920|  4.057743|\n",
      "|   306|    471|   3.0| 939718996| 3.5492811|\n",
      "|   607|    471|   4.0|1118247731| 3.6709409|\n",
      "|   585|    471|   4.0| 975363578|  4.372205|\n",
      "|   195|    471|   3.0| 976289176| 3.1663375|\n",
      "|   487|    471|   4.0| 832837388| 4.2497973|\n",
      "|   105|    471|   4.0|1085574088|  3.841051|\n",
      "|   296|    833|   4.5|1298158960|  4.722431|\n",
      "|   294|    833|   2.0|1047074195| 1.3547952|\n",
      "|    52|   1088|   4.0|1231766626|  2.179169|\n",
      "|   363|   1088|   2.0| 942345287| 3.2759418|\n",
      "|    15|   1088|   2.0|1122576683| 2.7004256|\n",
      "|   547|   1088|   5.0|1384462255| 2.4072495|\n",
      "|   387|   1088|   4.0| 974790964| 3.9749198|\n",
      "|    97|   1088|   2.0|1460342716| 1.0973232|\n",
      "|   509|   1088|   2.0|1093295913| 1.9757879|\n",
      "|   160|   1088|   4.0| 974258881| 4.0450845|\n",
      "+------+-------+------+----------+----------+\n",
      "only showing top 20 rows\n",
      "\n"
     ]
    }
   ],
   "source": [
    "testRatingsAndPredictions = model.transform(testDataset)\n",
    "testRatingsAndPredictions.show()"
   ]
  },
  {
   "cell_type": "markdown",
   "metadata": {},
   "source": [
    "### MAE, RMSE"
   ]
  },
  {
   "cell_type": "code",
   "execution_count": 28,
   "metadata": {},
   "outputs": [
    {
     "name": "stdout",
     "output_type": "stream",
     "text": [
      "MAE: 0.8523705336377525\n",
      "RMSE: 1.1318586171329739\n"
     ]
    }
   ],
   "source": [
    "maeEval = RegressionEvaluator(metricName='mae', labelCol='rating', predictionCol='prediction')\n",
    "rmseEval = RegressionEvaluator(metricName='rmse', labelCol='rating', predictionCol='prediction')\n",
    "mae = maeEval.evaluate(testRatingsAndPredictions)\n",
    "rmse = rmseEval.evaluate(testRatingsAndPredictions)\n",
    "print('MAE: ' + str(mae))\n",
    "print('RMSE: '+ str(rmse))"
   ]
  },
  {
   "cell_type": "markdown",
   "metadata": {},
   "source": [
    "### Top-N Recommendations evaluation Metrics"
   ]
  },
  {
   "cell_type": "markdown",
   "metadata": {},
   "source": [
    "#### Hit Rate"
   ]
  },
  {
   "cell_type": "code",
   "execution_count": 31,
   "metadata": {},
   "outputs": [
    {
     "name": "stdout",
     "output_type": "stream",
     "text": [
      "HitRate: 0.0018687872763419482\n"
     ]
    }
   ],
   "source": [
    "hitRecommendations = topNRecommendations.alias('a')\\\n",
    "                                        .join(testDataset.alias('b'), (F.col('a.userId') == F.col('b.userId')) &\n",
    "                                                                      (F.col('a.movieId') == F.col('b.movieId')))\\\n",
    "                                        .select('a.userId', 'a.movieId', 'prediction', 'rating')\n",
    "\n",
    "hitRate = hitRecommendations.count()/testDataset.count()\n",
    "print('HitRate: '+ str(hitRate))"
   ]
  },
  {
   "cell_type": "markdown",
   "metadata": {},
   "source": [
    "#### Cumulative Hit Rate"
   ]
  },
  {
   "cell_type": "code",
   "execution_count": 33,
   "metadata": {},
   "outputs": [
    {
     "name": "stdout",
     "output_type": "stream",
     "text": [
      "CumulativeHitRate: 0.0016699801192842942\n"
     ]
    }
   ],
   "source": [
    "ratingCutOff = 3.0\n",
    "cumulativeHitRecommendations = hitRecommendations.filter(F.col('rating') >= ratingCutOff)\n",
    "cumulativeHitRate = cumulativeHitRecommendations.count()/testDataset.count()\n",
    "print('CumulativeHitRate: '+ str(cumulativeHitRate))"
   ]
  },
  {
   "cell_type": "markdown",
   "metadata": {},
   "source": [
    "#### RatingHitRate"
   ]
  },
  {
   "cell_type": "code",
   "execution_count": 38,
   "metadata": {},
   "outputs": [
    {
     "name": "stdout",
     "output_type": "stream",
     "text": [
      "+------+--------------------+\n",
      "|rating|            hit_rate|\n",
      "+------+--------------------+\n",
      "|   5.0|0.002140754616002...|\n",
      "|   4.5|0.002048131080389145|\n",
      "|   4.0|0.002612042892493...|\n",
      "|   3.5|0.001126126126126...|\n",
      "|   3.0|0.001606103192130...|\n",
      "|   2.5|8.849557522123894E-4|\n",
      "|   2.0|0.001622498647917...|\n",
      "|   1.0|0.001148105625717566|\n",
      "+------+--------------------+\n",
      "\n"
     ]
    }
   ],
   "source": [
    "hitsGroupedByRating = hitRecommendations.groupBy(['rating']).agg(F.count(F.lit(1)).alias(\"total_hits\"))\n",
    "testsGroupedByRating = testDataset.groupBy('rating').agg(F.count(F.lit(1)).alias(\"total_recs\"))\n",
    "        \n",
    "histPerRating = hitsGroupedByRating.alias('a')\\\n",
    "                                   .join(testsGroupedByRating.alias('b'), F.col('a.rating') == F.col('b.rating'))\\\n",
    "                                   .select('a.rating', 'total_recs', 'total_hits')\\\n",
    "        \n",
    "ratingHitRate = histPerRating.withColumn('hit_rate', F.col('total_hits') / F.col('total_recs'))\\\n",
    "                             .select('rating', 'hit_rate').sort(F.desc(\"rating\"))\n",
    "ratingHitRate.show()"
   ]
  },
  {
   "cell_type": "code",
   "execution_count": null,
   "metadata": {},
   "outputs": [],
   "source": [
    "class RecommenderMetrics:\n",
    "    \n",
    "    def MAE(valuesAndPredictions, labelCol='rating', predictionCol='prediction'):\n",
    "        mae = RegressionEvaluator(metricName='mae', labelCol=labelCol, predictionCol=predictionCol)\n",
    "        return mae.evaluate(valuesAndPredictions)\n",
    "    \n",
    "    \n",
    "    def RMSE(valuesAndPredictions, labelCol='rating', predictionCol='prediction'):\n",
    "        rmse = RegressionEvaluator(metricName='rmse', labelCol=labelCol, predictionCol=predictionCol)\n",
    "        return rmse.evaluate(valuesAndPredictions)\n",
    "    \n",
    "    \n",
    "    def HitRate(topNPredicted, leftOutPredicted):\n",
    "        hitRecommendations = topNPredicted.alias('a')\\\n",
    "                                          .join(leftOutPredicted.alias('b'), (F.col('a.userId') == F.col('b.userId')) &\n",
    "                                                                             (F.col('a.movieId') == F.col('b.movieId')))\\\n",
    "                                          .select('a.userId', 'a.movieId', 'prediction', 'rating')\n",
    "        \n",
    "        return hitRecommendations.count()/leftOutPredicted.count()\n",
    "    \n",
    "    \n",
    "    def CumulativeHitRate(topNPredicted, leftOutPredicted, ratingCutOff=0):\n",
    "        hitRecommendations = topNPredicted.alias('a')\\\n",
    "                                          .join(leftOutPredicted.alias('b'), (F.col('a.userId') == F.col('b.userId')) &\n",
    "                                                                             (F.col('a.movieId') == F.col('b.movieId')))\\\n",
    "                                          .select('a.userId', 'a.movieId', 'prediction', F.col('rating').cast('float'))\n",
    "        \n",
    "        cumulativeHitRecommendations = hitRecommendations.filter(F.col('rating') >= ratingCutOff)\n",
    "        return cumulativeHitRecommendations.count()/leftOutPredicted.count()\n",
    "    \n",
    "    \n",
    "    def RatingHitRate(topNPredicted, leftOutPredicted):\n",
    "        hitRecommendations = topNPredicted.alias('a')\\\n",
    "                                          .join(leftOutPredicted.alias('b'), (F.col('a.userId') == F.col('b.userId')) &\n",
    "                                                                             (F.col('a.movieId') == F.col('b.movieId')))\\\n",
    "                                          .select('a.userId', 'a.movieId', 'prediction', 'rating')\n",
    "        \n",
    "        hitsGroupedByRating = hitRecommendations.groupBy(['rating']).agg(F.count(F.lit(1)).alias(\"total_hits\"))\n",
    "        testsGroupedByRating = test.groupBy('rating').agg(F.count(F.lit(1)).alias(\"total_recs\"))\n",
    "        \n",
    "        histPerRating = hitsGroupedByRating.alias('a')\\\n",
    "                                .join(testsGroupedByRating.alias('b'), F.col('a.rating') == F.col('b.rating'))\\\n",
    "                                .select('a.rating', 'total_recs', 'total_hits')\\\n",
    "        \n",
    "        ratingHitRate = histPerRating.withColumn('hit_rate', F.col('total_hits') / F.col('total_recs'))\\\n",
    "                                     .select('rating', 'hit_rate')\n",
    "                                 \n",
    "        return ratingHitRate\n",
    "    \n",
    "    \n",
    "    def AverageReciprocalHitrank(topNPredicted, leftOutPredicted):\n",
    "        return 0\n",
    "    \n",
    "    \n",
    "    def UserCoverage(topNPredicted, numUsers, ratingThreshold=0):\n",
    "        return 0\n",
    "    \n",
    "    \n",
    "    def Diversity(topNPredicted, simsAlgo):\n",
    "        return 0\n",
    "    \n",
    "    \n",
    "    def Novelty(topNPredicted, rankings):\n",
    "        return 0\n",
    "        "
   ]
  }
 ],
 "metadata": {
  "kernelspec": {
   "display_name": "Python 3",
   "language": "python",
   "name": "python3"
  },
  "language_info": {
   "codemirror_mode": {
    "name": "ipython",
    "version": 3
   },
   "file_extension": ".py",
   "mimetype": "text/x-python",
   "name": "python",
   "nbconvert_exporter": "python",
   "pygments_lexer": "ipython3",
   "version": "3.7.3"
  }
 },
 "nbformat": 4,
 "nbformat_minor": 2
}
