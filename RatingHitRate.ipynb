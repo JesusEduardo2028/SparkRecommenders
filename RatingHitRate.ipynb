{
 "cells": [
  {
   "cell_type": "markdown",
   "metadata": {},
   "source": [
    "## Rating Hit Rate"
   ]
  },
  {
   "cell_type": "code",
   "execution_count": 1,
   "metadata": {},
   "outputs": [],
   "source": [
    "import random\n",
    "import findspark\n",
    "import pyspark.sql.functions as F\n",
    "from pyspark.sql import SparkSession\n",
    "from pyspark.sql.window import Window\n",
    "from pyspark.ml.recommendation import ALS\n",
    "from pyspark.sql.types import IntegerType\n",
    "from pyspark.sql.functions import rank, col, udf\n",
    "from pyspark.ml.evaluation import RegressionEvaluator\n",
    "\n",
    "findspark.init()\n",
    "spark = SparkSession.builder.appName('TestRecommender')\\\n",
    "                    .config('spark.executors.cores', 4)\\\n",
    "                    .getOrCreate()\n",
    "ratings = spark.read.option('header', 'true').option(\"inferSchema\", \"true\").csv('ml-latest-small/ratings.csv')"
   ]
  },
  {
   "cell_type": "code",
   "execution_count": 2,
   "metadata": {},
   "outputs": [],
   "source": [
    "hitCount = 0\n",
    "\n",
    "def createSeed(x):\n",
    "    return random.randint(1,21)*x\n",
    "\n",
    "randomSeed=udf(lambda x: createSeed(x), IntegerType())\n",
    "\n",
    "window = Window.partitionBy(ratings['userId']).orderBy(randomSeed('timestamp'))\n",
    "onlyBestRatings = ratings.where('rating > 3.5')\n",
    "\n",
    "leftOutTestDataset = onlyBestRatings.select('*', F.rank().over(window).alias('rank'))\\\n",
    "                                    .where((F.col('rank') <=1) )\\\n",
    "                                    .orderBy('userId').drop('rank').cache()\n",
    "\n",
    "trainingDataset = ratings.subtract(leftOutTestDataset).cache()\n",
    "\n",
    "als = ALS(maxIter=20, regParam=0.01, userCol='userId', itemCol='movieId', ratingCol='rating', coldStartStrategy='drop')\n",
    "model = als.fit(trainingDataset)\n",
    "\n",
    "leftOutPredictions = model.transform(leftOutTestDataset)\n",
    "\n",
    "userRecs = model.recommendForAllUsers(30)\n",
    "topNRecommendations = userRecs.select('userId', F.posexplode('recommendations'))\\\n",
    "                              .select('userId',\n",
    "                                       F.col('col.movieId').alias('movieId'),\n",
    "                                       F.col('col.rating').alias('prediction'),\n",
    "                                       (F.col('pos') + 1).alias('rank'))\n",
    "\n",
    "hitRecommendations = topNRecommendations.alias('a')\\\n",
    "                                        .join(leftOutPredictions.alias('b'),\\\n",
    "                                              (F.col('a.userId') == F.col('b.userId')) &\n",
    "                                              (F.col('a.movieId') == F.col('b.movieId')))\\\n",
    "                                        .select('a.userId', 'a.movieId', 'b.prediction', 'rating', 'rank')\n"
   ]
  },
  {
   "cell_type": "code",
   "execution_count": 3,
   "metadata": {},
   "outputs": [
    {
     "name": "stdout",
     "output_type": "stream",
     "text": [
      "+------+--------------+\n",
      "|rating|total_left_out|\n",
      "+------+--------------+\n",
      "|   4.5|            82|\n",
      "|   4.0|           381|\n",
      "|   5.0|           219|\n",
      "+------+--------------+\n",
      "\n"
     ]
    }
   ],
   "source": [
    "testsGroupedByRating = leftOutPredictions.groupBy('rating').agg(F.count(F.lit(1)).alias(\"total_left_out\"))\n",
    "testsGroupedByRating.show()"
   ]
  },
  {
   "cell_type": "code",
   "execution_count": 4,
   "metadata": {},
   "outputs": [
    {
     "name": "stdout",
     "output_type": "stream",
     "text": [
      "+------+----------+\n",
      "|rating|total_hits|\n",
      "+------+----------+\n",
      "|   4.5|         2|\n",
      "|   4.0|         1|\n",
      "|   5.0|         2|\n",
      "+------+----------+\n",
      "\n"
     ]
    }
   ],
   "source": [
    "hitsGroupedByRating = hitRecommendations.groupBy('rating').agg(F.count(F.lit(1)).alias(\"total_hits\"))\n",
    "hitsGroupedByRating.show()"
   ]
  },
  {
   "cell_type": "code",
   "execution_count": 17,
   "metadata": {},
   "outputs": [
    {
     "name": "stdout",
     "output_type": "stream",
     "text": [
      "+------+----------+--------------+--------------------+\n",
      "|rating|total_hits|total_left_out|     rating_hit_rate|\n",
      "+------+----------+--------------+--------------------+\n",
      "|   4.5|         2|            82|0.024390243902439025|\n",
      "|   4.0|         1|           381|0.002624671916010...|\n",
      "|   5.0|         2|           219|  0.0091324200913242|\n",
      "+------+----------+--------------+--------------------+\n",
      "\n"
     ]
    }
   ],
   "source": [
    "ratingHitRate = testsGroupedByRating.alias('a')\\\n",
    "                                    .join(hitsGroupedByRating.alias('b'), (F.col('a.rating') == F.col('b.rating')))\\\n",
    "                                    .select('a.rating',\\\n",
    "                                            'b.total_hits',\\\n",
    "                                            'a.total_left_out',\\\n",
    "                                            (F.col('b.total_hits')/F.col('a.total_left_out')).alias('rating_hit_rate'))\n",
    "                                          \n",
    "ratingHitRate.show()"
   ]
  }
 ],
 "metadata": {
  "kernelspec": {
   "display_name": "Python 3",
   "language": "python",
   "name": "python3"
  },
  "language_info": {
   "codemirror_mode": {
    "name": "ipython",
    "version": 3
   },
   "file_extension": ".py",
   "mimetype": "text/x-python",
   "name": "python",
   "nbconvert_exporter": "python",
   "pygments_lexer": "ipython3",
   "version": "3.7.3"
  }
 },
 "nbformat": 4,
 "nbformat_minor": 2
}
